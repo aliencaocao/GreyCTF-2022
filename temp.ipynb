{
 "cells": [
  {
   "cell_type": "code",
   "execution_count": 28,
   "metadata": {
    "collapsed": true,
    "pycharm": {
     "name": "#%%\n"
    }
   },
   "outputs": [
    {
     "name": "stdout",
     "output_type": "stream",
     "text": [
      "[2091400703, 1447633963, 4214225996, 310649596, 1768792224, 1475588578, 2859965915, 2129944010, 1206742918, 3681741314, 572858572, 3759359034, 558788652, 789506238, 1305504070, 1346907338, 276759139, 3621394882, 1668042333, 2146107308, 818142203, 3256533272, 1950355919, 1594065689, 2889944993]\n",
      "['0x7ca83dff', '0x5649242b', '0xfb2ffc4c', '0x128422fc', '0x696da0a0', '0x57f3b1e2', '0xaa779ddb', '0x7ef45dca', '0x47ed6f86', '0xdb72ea02', '0x222520cc', '0xe013443a', '0x214e702c', '0x2f0ee8be', '0x4dd06946', '0x50482cca', '0x107f0263', '0xd7da19c2', '0x636c4e5d', '0x7feaffac', '0x30c3dbfb', '0xc21ac118', '0x744011cf', '0x5f038319', '0xac410fa1']\n"
     ]
    }
   ],
   "source": [
    "from Crypto.Util.number import *\n",
    "from pwn import *\n",
    "\n",
    "lfsr2_seed = 0x1A2B3C4D\n",
    "\n",
    "key2 = [0x7CAA42EB, 0x0CD53FDA8, 0x0F7420557, 0x5267EEC4, 0x793E70ED, 0x68D1AEC0, 0x38DA23EB, 0x6F1D6FB1, 0x39489B7B, 0x0F4F87516, 0x0ED67BC18, 0x8AD36BA0, 0x0AF2A684F, 0x80883171, 0x86CE7D28, 0x438CB016, 0x5784988C, 0x4BB5278B, 0x0BFDCD0C6, 0x6DDA7789, 0x0B0F09AA3, 0x557478BE, 0x0C372AEE8, 0x40A28470, 0x0A855383A]\n",
    "\n",
    "\n",
    "def lfsr1(n):\n",
    "    seed = 43981\n",
    "    for i in range(n):\n",
    "        lsb = seed & 1\n",
    "        seed >>= 1\n",
    "        if lsb:\n",
    "            seed ^= 0x82ee\n",
    "    return seed\n",
    "\n",
    "def lfsr2(n):\n",
    "    global lfsr2_seed\n",
    "    for i in range(n):\n",
    "        lsb = lfsr2_seed & 1\n",
    "        lfsr2_seed >>= 1\n",
    "        if lsb:\n",
    "            lfsr2_seed ^= 0x80000DD7\n",
    "    return lfsr2_seed\n",
    "\n",
    "def genFlag2(i):\n",
    "    v1 = lfsr1(i)\n",
    "    return lfsr2(v1) ^ key2[int(i / 10000)]\n",
    "\n",
    "\n",
    "flag2 = [None for i in range(32)]\n",
    "actualScore = 0\n",
    "lsfr2_result = lfsr2(1)\n",
    "while not (actualScore % 10000) and (actualScore / 10000) < 0x19:\n",
    "    # Todo: take the most significant 32 bit of lsfr2_result???\n",
    "    actualScore += 10000\n",
    "    flag2[int(actualScore / 10000)] = genFlag2(actualScore - 10000)\n",
    "\n",
    "flag2_filtered = [flag2[i] for i in range(32) if flag2[i] is not None]\n",
    "print(flag2_filtered)\n",
    "print(list(map(hex, flag2_filtered)))"
   ]
  },
  {
   "cell_type": "code",
   "execution_count": 29,
   "outputs": [
    {
     "data": {
      "text/plain": "b'\\xff=\\xa8|'"
     },
     "execution_count": 29,
     "metadata": {},
     "output_type": "execute_result"
    }
   ],
   "source": [
    "long_to_bytes(u32(long_to_bytes(flag2_filtered[0])))"
   ],
   "metadata": {
    "collapsed": false,
    "pycharm": {
     "name": "#%%\n"
    }
   }
  },
  {
   "cell_type": "code",
   "execution_count": 32,
   "outputs": [
    {
     "data": {
      "text/plain": "2435484725155682291003308219627229434907811977279066428859985369182837"
     },
     "execution_count": 32,
     "metadata": {},
     "output_type": "execute_result"
    }
   ],
   "source": [
    "from Crypto.Util.number import *\n",
    "\n",
    "s = 'input'\n",
    "\n",
    "v4 = r'ZVOi]7SsDHDARIPu5KGb34fgd_w2u'\n",
    "v5 = r'=[5r75^u4dm5H[]CY8D`jEMU59l\\\\o'\n",
    "\n",
    "def sub_401176(a1: str, a2: int):\n",
    "    a1 = ord(a1)\n",
    "    if a1 <= 31 or a1 == 127:\n",
    "        raise ValueError('Invalid character')\n",
    "    return int((a2 * a1 % 2930 + a1 + a2) % 73 + 48)\n",
    "\n",
    "\n",
    "\n",
    "# for i in range(28+1):\n",
    "#     sub_401176(i + ord(a1), i) != bytes_to_long(v4.encode()) + i\n",
    "\n",
    "bytes_to_long(v4.encode())"
   ],
   "metadata": {
    "collapsed": false,
    "pycharm": {
     "name": "#%%\n"
    }
   }
  }
 ],
 "metadata": {
  "kernelspec": {
   "display_name": "Python 3",
   "language": "python",
   "name": "python3"
  },
  "language_info": {
   "codemirror_mode": {
    "name": "ipython",
    "version": 2
   },
   "file_extension": ".py",
   "mimetype": "text/x-python",
   "name": "python",
   "nbconvert_exporter": "python",
   "pygments_lexer": "ipython2",
   "version": "2.7.6"
  }
 },
 "nbformat": 4,
 "nbformat_minor": 0
}