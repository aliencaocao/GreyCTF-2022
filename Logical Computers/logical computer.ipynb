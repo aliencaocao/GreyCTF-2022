{
 "cells": [
  {
   "cell_type": "code",
   "execution_count": 11,
   "metadata": {
    "collapsed": true,
    "pycharm": {
     "name": "#%%\n"
    }
   },
   "outputs": [
    {
     "name": "stdout",
     "output_type": "stream",
     "text": [
      "grey{sM0rT_mAch1nE5}\n"
     ]
    }
   ],
   "source": [
    "import torch\n",
    "\n",
    "def tensorize(s : str) -> torch.Tensor:\n",
    "  return torch.Tensor([(1 if (ch >> i) & 1 == 1 else -1) for ch in list(map(ord, s)) for i in range(8)])\n",
    "\n",
    "class NeuralNetwork(torch.nn.Module):\n",
    "  def __init__(self, in_dimension, mid_dimension, out_dimension=1):\n",
    "    super(NeuralNetwork, self).__init__()\n",
    "    self.layer1 = torch.nn.Linear(in_dimension, mid_dimension)\n",
    "    self.layer2 = torch.nn.Linear(mid_dimension, out_dimension)\n",
    "\n",
    "  def step_activation(self, x : torch.Tensor) -> torch.Tensor:\n",
    "    x[x <= 0] = -1\n",
    "    x[x >  0] = 1\n",
    "    return x\n",
    "\n",
    "  def forward(self, x : torch.Tensor) -> int:\n",
    "    x = self.layer1(x)\n",
    "    x = self.step_activation(x)\n",
    "    x = self.layer2(x)\n",
    "    x = self.step_activation(x)\n",
    "    return int(x)\n",
    "\n",
    "\n",
    "in_data = torch.Tensor([1] * 160)\n",
    "in_dim\t= len(in_data)\n",
    "\n",
    "model = NeuralNetwork(in_dim, 1280)\n",
    "model.load_state_dict(torch.load(\"model.pth\"))\n",
    "inv = torch.Tensor([1]) - model.layer2.bias.T\n",
    "inv = torch.matmul(model.layer2.weight.T, inv)\n",
    "inv -= model.layer1.bias.T\n",
    "inv = torch.matmul(model.layer1.weight.T, inv)\n",
    "inv[inv <= 0] = -1\n",
    "inv[inv >  0] = 1\n",
    "inv = inv.tolist()\n",
    "\n",
    "k = 0\n",
    "st=''\n",
    "for i in range(20):\n",
    "    j=1\n",
    "    n=0\n",
    "    for l in range(8):\n",
    "        if inv[k] == 1.0:\n",
    "            n=n+pow(2, l)\n",
    "        k+=1\n",
    "    st+=chr(int(n))\n",
    "print(st)"
   ]
  }
 ],
 "metadata": {
  "kernelspec": {
   "display_name": "Python 3",
   "language": "python",
   "name": "python3"
  },
  "language_info": {
   "codemirror_mode": {
    "name": "ipython",
    "version": 2
   },
   "file_extension": ".py",
   "mimetype": "text/x-python",
   "name": "python",
   "nbconvert_exporter": "python",
   "pygments_lexer": "ipython2",
   "version": "2.7.6"
  }
 },
 "nbformat": 4,
 "nbformat_minor": 0
}